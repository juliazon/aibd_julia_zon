{
 "cells": [
  {
   "cell_type": "markdown",
   "id": "802266ec",
   "metadata": {},
   "source": [
    "Julia Zoń, 406998\n",
    "Analiza i Bazy Danych, grupa 3"
   ]
  },
  {
   "cell_type": "code",
   "execution_count": 1,
   "id": "1afe3303",
   "metadata": {},
   "outputs": [],
   "source": [
    "import numpy as np\n",
    "import scipy\n",
    "import matplotlib\n",
    "import matplotlib.pyplot as plt\n",
    "import pandas as pd"
   ]
  },
  {
   "cell_type": "code",
   "execution_count": 5,
   "id": "685fb2c1",
   "metadata": {},
   "outputs": [
    {
     "data": {
      "image/png": "[encoded data removed]",
      "text/plain": [
       "<Figure size 432x288 with 1 Axes>"
      ]
     },
     "metadata": {
      "needs_background": "light"
     },
     "output_type": "display_data"
    }
   ],
   "source": [
    "def my_function(x):\n",
    "    return x**2 + 5\n",
    "\n",
    "x1 = np.linspace(-1, 1, 10)\n",
    "y1 = my_function(x1)\n",
    "plt.plot(x1, y1, 'r*', label='-1 < x < 1', linewidth=5)\n",
    "\n",
    "x2 = np.linspace(-6, 6)\n",
    "y2 = my_function(x2)\n",
    "plt.plot(x2, y2, label='-6 < x < 6')\n",
    "\n",
    "x3 = np.linspace(0, 5)\n",
    "y3 = my_function(x3)\n",
    "plt.plot(x3, y3, 'g', label='0 < x < 5', linewidth=3)\n",
    "\n",
    "plt.grid(True)\n",
    "plt.title('Wykres funkcji x^2 + 5')\n",
    "plt.xlabel(\"x1\")\n",
    "plt.ylabel(\"y1\")\n",
    "plt.legend()\n",
    "plt.show()"
   ]
  },
  {
   "cell_type": "markdown",
   "id": "946e98fd",
   "metadata": {},
   "source": [
    "Zdefiniowanie funkcji i utworzenie jej wykresów w różnych przedziałach i w jednym oknie korzystając z funkcjonalności biblioteki Matplotlib. Dodanie tytułu, etykiet osi, legendy oraz siatki. Odróżnienie wykresów za pomocą formatowania (dodania flag przy funkcji plt.plot) - wybór koloru, grubości i formy wykresu."
   ]
  },
  {
   "cell_type": "code",
   "execution_count": 6,
   "id": "708141ea",
   "metadata": {},
   "outputs": [
    {
     "name": "stdout",
     "output_type": "stream",
     "text": [
      "      Name    Surname Age    Sex\n",
      "0    Julia        Zon  21  woman\n",
      "1     Mark    Johnson  35    man\n",
      "2     Anna      Smith   9  woman\n",
      "3   Marina  Diamandis  50  woman\n",
      "4  Michael    Jackson  76    man \n",
      "\n",
      "<class 'pandas.core.frame.DataFrame'>\n",
      "RangeIndex: 5 entries, 0 to 4\n",
      "Data columns (total 4 columns):\n",
      " #   Column   Non-Null Count  Dtype \n",
      "---  ------   --------------  ----- \n",
      " 0   Name     5 non-null      object\n",
      " 1   Surname  5 non-null      object\n",
      " 2   Age      5 non-null      object\n",
      " 3   Sex      5 non-null      object\n",
      "dtypes: object(4)\n",
      "memory usage: 288.0+ bytes\n"
     ]
    }
   ],
   "source": [
    "#Utworzenie tablicy z danymi \n",
    "data = np.array([(\"Julia\", \"Zon\", 21, \"woman\"), \n",
    "                 (\"Mark\", \"Johnson\", 35, \"man\"), \n",
    "                 (\"Anna\", \"Smith\", 9, \"woman\"),\n",
    "                 (\"Marina\", \"Diamandis\", 50, \"woman\"), \n",
    "                 (\"Michael\", \"Jackson\", 76, \"man\")]) \n",
    "#Utworzenie dataframe z podanych rekordów\n",
    "data_frame = pd.DataFrame.from_records(data, columns=['Name', 'Surname', 'Age', 'Sex'])\n",
    "#Wyświetlenie dataframe\n",
    "print(data_frame, '\\n')\n",
    "\n",
    "#Wyświetlenie informacji o danych za pomocą pandas.info()\n",
    "data_frame.info()"
   ]
  },
  {
   "cell_type": "code",
   "execution_count": 7,
   "id": "b6b73051",
   "metadata": {},
   "outputs": [
    {
     "data": {
      "text/html": [
       "<div>\n",
       "<style scoped>\n",
       "    .dataframe tbody tr th:only-of-type {\n",
       "        vertical-align: middle;\n",
       "    }\n",
       "\n",
       "    .dataframe tbody tr th {\n",
       "        vertical-align: top;\n",
       "    }\n",
       "\n",
       "    .dataframe thead th {\n",
       "        text-align: right;\n",
       "    }\n",
       "</style>\n",
       "<table border=\"1\" class=\"dataframe\">\n",
       "  <thead>\n",
       "    <tr style=\"text-align: right;\">\n",
       "      <th></th>\n",
       "      <th>Name</th>\n",
       "      <th>Surname</th>\n",
       "      <th>Age</th>\n",
       "      <th>Sex</th>\n",
       "    </tr>\n",
       "  </thead>\n",
       "  <tbody>\n",
       "    <tr>\n",
       "      <th>count</th>\n",
       "      <td>5</td>\n",
       "      <td>5</td>\n",
       "      <td>5</td>\n",
       "      <td>5</td>\n",
       "    </tr>\n",
       "    <tr>\n",
       "      <th>unique</th>\n",
       "      <td>5</td>\n",
       "      <td>5</td>\n",
       "      <td>5</td>\n",
       "      <td>2</td>\n",
       "    </tr>\n",
       "    <tr>\n",
       "      <th>top</th>\n",
       "      <td>Julia</td>\n",
       "      <td>Zon</td>\n",
       "      <td>21</td>\n",
       "      <td>woman</td>\n",
       "    </tr>\n",
       "    <tr>\n",
       "      <th>freq</th>\n",
       "      <td>1</td>\n",
       "      <td>1</td>\n",
       "      <td>1</td>\n",
       "      <td>3</td>\n",
       "    </tr>\n",
       "  </tbody>\n",
       "</table>\n",
       "</div>"
      ],
      "text/plain": [
       "         Name Surname Age    Sex\n",
       "count       5       5   5      5\n",
       "unique      5       5   5      2\n",
       "top     Julia     Zon  21  woman\n",
       "freq        1       1   1      3"
      ]
     },
     "execution_count": 7,
     "metadata": {},
     "output_type": "execute_result"
    }
   ],
   "source": [
    "#Wyświetlenie opisu danych za pomocą pandas.describe()\n",
    "data_frame.describe()"
   ]
  },
  {
   "cell_type": "code",
   "execution_count": 8,
   "id": "f2929d4e",
   "metadata": {},
   "outputs": [
    {
     "data": {
      "text/html": [
       "<div>\n",
       "<style scoped>\n",
       "    .dataframe tbody tr th:only-of-type {\n",
       "        vertical-align: middle;\n",
       "    }\n",
       "\n",
       "    .dataframe tbody tr th {\n",
       "        vertical-align: top;\n",
       "    }\n",
       "\n",
       "    .dataframe thead th {\n",
       "        text-align: right;\n",
       "    }\n",
       "</style>\n",
       "<table border=\"1\" class=\"dataframe\">\n",
       "  <thead>\n",
       "    <tr style=\"text-align: right;\">\n",
       "      <th></th>\n",
       "      <th>Name</th>\n",
       "      <th>Surname</th>\n",
       "      <th>Age</th>\n",
       "      <th>Sex</th>\n",
       "    </tr>\n",
       "  </thead>\n",
       "  <tbody>\n",
       "    <tr>\n",
       "      <th>0</th>\n",
       "      <td>Julia</td>\n",
       "      <td>Zon</td>\n",
       "      <td>21</td>\n",
       "      <td>woman</td>\n",
       "    </tr>\n",
       "    <tr>\n",
       "      <th>1</th>\n",
       "      <td>Mark</td>\n",
       "      <td>Johnson</td>\n",
       "      <td>35</td>\n",
       "      <td>man</td>\n",
       "    </tr>\n",
       "    <tr>\n",
       "      <th>2</th>\n",
       "      <td>Anna</td>\n",
       "      <td>Smith</td>\n",
       "      <td>9</td>\n",
       "      <td>woman</td>\n",
       "    </tr>\n",
       "  </tbody>\n",
       "</table>\n",
       "</div>"
      ],
      "text/plain": [
       "    Name  Surname Age    Sex\n",
       "0  Julia      Zon  21  woman\n",
       "1   Mark  Johnson  35    man\n",
       "2   Anna    Smith   9  woman"
      ]
     },
     "execution_count": 8,
     "metadata": {},
     "output_type": "execute_result"
    }
   ],
   "source": [
    "#Wyświetlenie jedynie 3 pierwszych rekordów za pomocą pandas.head()\n",
    "data_frame.head(3)"
   ]
  },
  {
   "cell_type": "markdown",
   "id": "a7943771",
   "metadata": {},
   "source": [
    "Zapoznanie się z funkcjami biblioteki pandas - utworzenie dataframe oraz wyświetlanie i analiza danych. Funkcja pandas.info() wyświetla informacje o danych: liczbę i nazwy kolumn oraz typy danych. Funkcja pandas.describe() generuje statystyki danych w zależności od ustawień parametrów. Funkcja pandas.head() wyświetla n pierwszych wierszów dataframe w zależności od wartości podanego parametru."
   ]
  },
  {
   "cell_type": "markdown",
   "id": "571373b8",
   "metadata": {},
   "source": []
  }
 ],
 "metadata": {
  "kernelspec": {
   "display_name": "Python 3 (ipykernel)",
   "language": "python",
   "name": "python3"
  },
  "language_info": {
   "codemirror_mode": {
    "name": "ipython",
    "version": 3
   },
   "file_extension": ".py",
   "mimetype": "text/x-python",
   "name": "python",
   "nbconvert_exporter": "python",
   "pygments_lexer": "ipython3",
   "version": "3.9.12"
  }
 },
 "nbformat": 4,
 "nbformat_minor": 5
}
