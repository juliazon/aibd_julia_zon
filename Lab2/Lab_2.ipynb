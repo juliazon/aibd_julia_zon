{
 "cells": [
  {
   "cell_type": "markdown",
   "id": "101986e6",
   "metadata": {},
   "source": [
    "Julia Zoń, 406998, \n",
    "Grupa 3"
   ]
  },
  {
   "cell_type": "code",
   "execution_count": 1,
   "id": "230197b0",
   "metadata": {},
   "outputs": [],
   "source": [
    "import psycopg2 as pg\n",
    "import pandas as pd\n",
    "\n",
    "connection = pg.connect(host='pgsql-196447.vipserv.org', port=5432, dbname='wbauer_adb', user='wbauer_adb', password='adb2020')"
   ]
  },
  {
   "cell_type": "code",
   "execution_count": 2,
   "id": "843ad17a",
   "metadata": {},
   "outputs": [
    {
     "name": "stderr",
     "output_type": "stream",
     "text": [
      "/Users/juliazon/opt/anaconda3/lib/python3.9/site-packages/pandas/io/sql.py:761: UserWarning: pandas only support SQLAlchemy connectable(engine/connection) ordatabase string URI or sqlite3 DBAPI2 connectionother DBAPI2 objects are not tested, please consider using SQLAlchemy\n",
      "  warnings.warn(\n"
     ]
    },
    {
     "data": {
      "text/html": [
       "<div>\n",
       "<style scoped>\n",
       "    .dataframe tbody tr th:only-of-type {\n",
       "        vertical-align: middle;\n",
       "    }\n",
       "\n",
       "    .dataframe tbody tr th {\n",
       "        vertical-align: top;\n",
       "    }\n",
       "\n",
       "    .dataframe thead th {\n",
       "        text-align: right;\n",
       "    }\n",
       "</style>\n",
       "<table border=\"1\" class=\"dataframe\">\n",
       "  <thead>\n",
       "    <tr style=\"text-align: right;\">\n",
       "      <th></th>\n",
       "      <th>count</th>\n",
       "    </tr>\n",
       "  </thead>\n",
       "  <tbody>\n",
       "    <tr>\n",
       "      <th>0</th>\n",
       "      <td>16</td>\n",
       "    </tr>\n",
       "  </tbody>\n",
       "</table>\n",
       "</div>"
      ],
      "text/plain": [
       "   count\n",
       "0     16"
      ]
     },
     "execution_count": 2,
     "metadata": {},
     "output_type": "execute_result"
    }
   ],
   "source": [
    "#Zapytanie o liczbę kategorii filmów w wypożyczalni\n",
    "df = pd.read_sql('select count(distinct name) from category',con=connection)\n",
    "df"
   ]
  },
  {
   "cell_type": "markdown",
   "id": "caa308e7",
   "metadata": {},
   "source": [
    "Zapytanie o liczbę kategorii za pomocą instrukcji COUNT, która liczy wszystkie wiersze spełniające podane kryterium. Klauzula DISTINCT zduplikowane w wyniku zapytania wiersze."
   ]
  },
  {
   "cell_type": "code",
   "execution_count": 3,
   "id": "121a99ee",
   "metadata": {},
   "outputs": [
    {
     "name": "stderr",
     "output_type": "stream",
     "text": [
      "/Users/juliazon/opt/anaconda3/lib/python3.9/site-packages/pandas/io/sql.py:761: UserWarning: pandas only support SQLAlchemy connectable(engine/connection) ordatabase string URI or sqlite3 DBAPI2 connectionother DBAPI2 objects are not tested, please consider using SQLAlchemy\n",
      "  warnings.warn(\n"
     ]
    },
    {
     "data": {
      "text/html": [
       "<div>\n",
       "<style scoped>\n",
       "    .dataframe tbody tr th:only-of-type {\n",
       "        vertical-align: middle;\n",
       "    }\n",
       "\n",
       "    .dataframe tbody tr th {\n",
       "        vertical-align: top;\n",
       "    }\n",
       "\n",
       "    .dataframe thead th {\n",
       "        text-align: right;\n",
       "    }\n",
       "</style>\n",
       "<table border=\"1\" class=\"dataframe\">\n",
       "  <thead>\n",
       "    <tr style=\"text-align: right;\">\n",
       "      <th></th>\n",
       "      <th>name</th>\n",
       "    </tr>\n",
       "  </thead>\n",
       "  <tbody>\n",
       "    <tr>\n",
       "      <th>0</th>\n",
       "      <td>Action</td>\n",
       "    </tr>\n",
       "    <tr>\n",
       "      <th>1</th>\n",
       "      <td>Animation</td>\n",
       "    </tr>\n",
       "    <tr>\n",
       "      <th>2</th>\n",
       "      <td>Children</td>\n",
       "    </tr>\n",
       "    <tr>\n",
       "      <th>3</th>\n",
       "      <td>Classics</td>\n",
       "    </tr>\n",
       "    <tr>\n",
       "      <th>4</th>\n",
       "      <td>Comedy</td>\n",
       "    </tr>\n",
       "    <tr>\n",
       "      <th>5</th>\n",
       "      <td>Documentary</td>\n",
       "    </tr>\n",
       "    <tr>\n",
       "      <th>6</th>\n",
       "      <td>Drama</td>\n",
       "    </tr>\n",
       "    <tr>\n",
       "      <th>7</th>\n",
       "      <td>Family</td>\n",
       "    </tr>\n",
       "    <tr>\n",
       "      <th>8</th>\n",
       "      <td>Foreign</td>\n",
       "    </tr>\n",
       "    <tr>\n",
       "      <th>9</th>\n",
       "      <td>Games</td>\n",
       "    </tr>\n",
       "    <tr>\n",
       "      <th>10</th>\n",
       "      <td>Horror</td>\n",
       "    </tr>\n",
       "    <tr>\n",
       "      <th>11</th>\n",
       "      <td>Music</td>\n",
       "    </tr>\n",
       "    <tr>\n",
       "      <th>12</th>\n",
       "      <td>New</td>\n",
       "    </tr>\n",
       "    <tr>\n",
       "      <th>13</th>\n",
       "      <td>Sci-Fi</td>\n",
       "    </tr>\n",
       "    <tr>\n",
       "      <th>14</th>\n",
       "      <td>Sports</td>\n",
       "    </tr>\n",
       "    <tr>\n",
       "      <th>15</th>\n",
       "      <td>Travel</td>\n",
       "    </tr>\n",
       "  </tbody>\n",
       "</table>\n",
       "</div>"
      ],
      "text/plain": [
       "           name\n",
       "0        Action\n",
       "1     Animation\n",
       "2      Children\n",
       "3      Classics\n",
       "4        Comedy\n",
       "5   Documentary\n",
       "6         Drama\n",
       "7        Family\n",
       "8       Foreign\n",
       "9         Games\n",
       "10       Horror\n",
       "11        Music\n",
       "12          New\n",
       "13       Sci-Fi\n",
       "14       Sports\n",
       "15       Travel"
      ]
     },
     "execution_count": 3,
     "metadata": {},
     "output_type": "execute_result"
    }
   ],
   "source": [
    "#Wyświetlenie listy kategorii w kolejności alfabetycznie\n",
    "df1 = pd.read_sql('select name from category',con=connection)\n",
    "df1"
   ]
  },
  {
   "cell_type": "markdown",
   "id": "43cca3a6",
   "metadata": {},
   "source": [
    "Najprostsze użycie polecenia SELECT. Wyszukane kategorie są od razu porządkowane alfabetycznie."
   ]
  },
  {
   "cell_type": "code",
   "execution_count": 4,
   "id": "5e0ac179",
   "metadata": {},
   "outputs": [
    {
     "name": "stdout",
     "output_type": "stream",
     "text": [
      "   release_year            title\n",
      "0          2006  Chamber Italian\n"
     ]
    },
    {
     "name": "stderr",
     "output_type": "stream",
     "text": [
      "/Users/juliazon/opt/anaconda3/lib/python3.9/site-packages/pandas/io/sql.py:761: UserWarning: pandas only support SQLAlchemy connectable(engine/connection) ordatabase string URI or sqlite3 DBAPI2 connectionother DBAPI2 objects are not tested, please consider using SQLAlchemy\n",
      "  warnings.warn(\n"
     ]
    }
   ],
   "source": [
    "#Zapytanie o najmłodszy film w do wypożyczenia\n",
    "txt =   \"\"\"\n",
    "        SELECT release_year, title\n",
    "        FROM film\n",
    "        ORDER BY \n",
    "            release_year DESC\n",
    "        FETCH FIRST ROW ONLY;\n",
    "        \"\"\"\n",
    "\n",
    "df2 = pd.read_sql(txt,con=connection)\n",
    "print(df2)"
   ]
  },
  {
   "cell_type": "markdown",
   "id": "6ae12547",
   "metadata": {},
   "source": [
    "W celu znalezienia najmłodszego filmu, użyłam klauzuli ORDER BY by uporządkować filmy. Znacznik ASC oznacza, że filmy są porządkowane według roku wydania - od najmłodszego do nastarszego (lata porządkowane malejąco). Za pomocą klauzuli FETCH wybieram jedynie pierwszy wiersz, czyli najmłodszy film. "
   ]
  },
  {
   "cell_type": "code",
   "execution_count": 5,
   "id": "c44e4cac",
   "metadata": {},
   "outputs": [
    {
     "name": "stdout",
     "output_type": "stream",
     "text": [
      "   release_year            title\n",
      "0          2006  Chamber Italian\n"
     ]
    },
    {
     "name": "stderr",
     "output_type": "stream",
     "text": [
      "/Users/juliazon/opt/anaconda3/lib/python3.9/site-packages/pandas/io/sql.py:761: UserWarning: pandas only support SQLAlchemy connectable(engine/connection) ordatabase string URI or sqlite3 DBAPI2 connectionother DBAPI2 objects are not tested, please consider using SQLAlchemy\n",
      "  warnings.warn(\n"
     ]
    }
   ],
   "source": [
    "#Zapytanie o najstarszy film w do wypożyczenia\n",
    "txt =   \"\"\"\n",
    "        SELECT \n",
    "            release_year, \n",
    "            title\n",
    "        FROM \n",
    "            film\n",
    "        ORDER BY \n",
    "            release_year ASC\n",
    "        FETCH FIRST ROW ONLY;\n",
    "        \"\"\"\n",
    "\n",
    "df3 = pd.read_sql(txt,con=connection)\n",
    "print(df3)"
   ]
  },
  {
   "cell_type": "markdown",
   "id": "bd4e623e",
   "metadata": {},
   "source": [
    "Odnalezienie najstarszego filmy wykonujemy analogicznie - z tą różnicą, że porządkujemy filmy od najstarszego do najmłodszego, za co odpowiada znacznik ASC, który porządkuje filmy ze względu na rok wydania rosnąco. Uzyskujemy ten sam wynik, gdyż wszystkie filmy z bazy zostały wydane w tym samym roku."
   ]
  },
  {
   "cell_type": "code",
   "execution_count": 6,
   "id": "1ed59b27",
   "metadata": {},
   "outputs": [
    {
     "name": "stderr",
     "output_type": "stream",
     "text": [
      "/Users/juliazon/opt/anaconda3/lib/python3.9/site-packages/pandas/io/sql.py:761: UserWarning: pandas only support SQLAlchemy connectable(engine/connection) ordatabase string URI or sqlite3 DBAPI2 connectionother DBAPI2 objects are not tested, please consider using SQLAlchemy\n",
      "  warnings.warn(\n"
     ]
    },
    {
     "name": "stdout",
     "output_type": "stream",
     "text": [
      "   count\n",
      "0   7380\n"
     ]
    }
   ],
   "source": [
    "#Zapytanie ile wypożyczeń odbyło się między 2005-07-01 a 2005-08-01\n",
    "txt =   \"\"\"\n",
    "        SELECT\n",
    "            count(*)\n",
    "        FROM\n",
    "            rental\n",
    "        WHERE\n",
    "            rental_date BETWEEN '2005-07-01 00:00:00'\n",
    "        AND '2005-08-01 23:59:59'\n",
    "        \"\"\"\n",
    "df4 = pd.read_sql(txt,con=connection)\n",
    "print(df4)           "
   ]
  },
  {
   "cell_type": "code",
   "execution_count": 7,
   "id": "145b1fe2",
   "metadata": {},
   "outputs": [
    {
     "name": "stderr",
     "output_type": "stream",
     "text": [
      "/Users/juliazon/opt/anaconda3/lib/python3.9/site-packages/pandas/io/sql.py:761: UserWarning: pandas only support SQLAlchemy connectable(engine/connection) ordatabase string URI or sqlite3 DBAPI2 connectionother DBAPI2 objects are not tested, please consider using SQLAlchemy\n",
      "  warnings.warn(\n"
     ]
    },
    {
     "name": "stdout",
     "output_type": "stream",
     "text": [
      "   count\n",
      "0      0\n"
     ]
    }
   ],
   "source": [
    "#Zapytanie ile wypożyczeń odbyło się między 2010-01-01 a 2011-02-01\n",
    "txt =   \"\"\"\n",
    "        SELECT\n",
    "            count(*)\n",
    "        FROM\n",
    "            rental\n",
    "        WHERE\n",
    "            rental_date BETWEEN '2010-01-01 00:00:00'\n",
    "        AND '2011-02-01 23:59:59'\n",
    "        \"\"\"\n",
    "df4 = pd.read_sql(txt,con=connection)\n",
    "print(df4) "
   ]
  },
  {
   "cell_type": "markdown",
   "id": "39153d3f",
   "metadata": {},
   "source": [
    "Ponownie korzystamy z funkcji COUNT. Dodatkowo, by wyznaczyć ilość wypożyczeń w podanym okresie, używamy klauzuli BETWEEN podając dwie daty."
   ]
  },
  {
   "cell_type": "code",
   "execution_count": 8,
   "id": "2d4313f9",
   "metadata": {},
   "outputs": [
    {
     "name": "stderr",
     "output_type": "stream",
     "text": [
      "/Users/juliazon/opt/anaconda3/lib/python3.9/site-packages/pandas/io/sql.py:761: UserWarning: pandas only support SQLAlchemy connectable(engine/connection) ordatabase string URI or sqlite3 DBAPI2 connectionother DBAPI2 objects are not tested, please consider using SQLAlchemy\n",
      "  warnings.warn(\n"
     ]
    },
    {
     "name": "stdout",
     "output_type": "stream",
     "text": [
      "   amount\n",
      "0   11.99\n"
     ]
    }
   ],
   "source": [
    "#Zapytanie o największą płatność wypożyczenia\n",
    "txt =   \"\"\"\n",
    "        SELECT\n",
    "            amount\n",
    "        FROM\n",
    "            payment\n",
    "        ORDER BY \n",
    "            amount DESC \n",
    "        FETCH FIRST ROW ONLY;\n",
    "        \"\"\"\n",
    "df5 = pd.read_sql(txt,con=connection)\n",
    "print(df5) "
   ]
  },
  {
   "cell_type": "markdown",
   "id": "bf68d3f0",
   "metadata": {},
   "source": [
    "Ponownie porządkujemy wiersze za pomocą klauzuli ORDER BY, a następnie wybieramy pierwszy z nich dzięki klauzuli FETCH."
   ]
  },
  {
   "cell_type": "code",
   "execution_count": 9,
   "id": "3543efea",
   "metadata": {},
   "outputs": [
    {
     "name": "stderr",
     "output_type": "stream",
     "text": [
      "/Users/juliazon/opt/anaconda3/lib/python3.9/site-packages/pandas/io/sql.py:761: UserWarning: pandas only support SQLAlchemy connectable(engine/connection) ordatabase string URI or sqlite3 DBAPI2 connectionother DBAPI2 objects are not tested, please consider using SQLAlchemy\n",
      "  warnings.warn(\n"
     ]
    },
    {
     "name": "stdout",
     "output_type": "stream",
     "text": [
      "   first_name  last_name     country\n",
      "0       Sonia    Gregory     Nigeria\n",
      "1       Brian      Wyman      Poland\n",
      "2      Sidney   Burleson      Poland\n",
      "3      Rodney    Moeller     Nigeria\n",
      "4     Stephen     Qualls  Bangladesh\n",
      "5       Velma      Lucas     Nigeria\n",
      "6     Marilyn       Ross     Nigeria\n",
      "7       Elsie     Kelley     Nigeria\n",
      "8      Gladys   Hamilton     Nigeria\n",
      "9       Frank   Waggoner  Bangladesh\n",
      "10   Marjorie     Tucker      Poland\n",
      "11      Carol     Garcia     Nigeria\n",
      "12       Leah     Curtis      Poland\n",
      "13      Ruben      Geary      Poland\n",
      "14       Olga    Jimenez     Nigeria\n",
      "15     Bertha   Ferguson     Nigeria\n",
      "16     Tracey    Barrett     Nigeria\n",
      "17         Jo     Fowler     Nigeria\n",
      "18    Johnnie   Chisholm      Poland\n",
      "19    Wallace      Slone     Nigeria\n",
      "20   Michelle      Clark  Bangladesh\n",
      "21    Russell    Brinson      Poland\n",
      "22     Jimmie  Eggleston      Poland\n",
      "23  Constance       Reid     Nigeria\n"
     ]
    }
   ],
   "source": [
    "#Zapytanie o wszystkich klientów z Polski, Nigerii i Bangladeszu\n",
    "txt =   \"\"\"\n",
    "        SELECT\n",
    "            first_name,\n",
    "            last_name, \n",
    "            cntr.country\n",
    "        FROM\n",
    "            customer c\n",
    "        INNER JOIN address a\n",
    "            ON a.address_id = c.address_id\n",
    "        INNER JOIN city ct\n",
    "            ON ct.city_id = a.city_id\n",
    "        INNER JOIN country cntr\n",
    "            ON cntr.country_id = ct.country_id\n",
    "        WHERE\n",
    "            cntr.country IN ('Poland', 'Nigeria', 'Bangladesh')\n",
    "        \"\"\"\n",
    "df6 = pd.read_sql(txt,con=connection)\n",
    "print(df6) "
   ]
  },
  {
   "cell_type": "markdown",
   "id": "11f0f9f8",
   "metadata": {},
   "source": [
    "W tym przypadku potrzebne informacje do uzyskania podanych danych znajdują się w różnych zbiorach. Do takiego łączenia danych służy klauzula JOIN. Dzięki niej uzyskujemy jednoczesny dostęp do danych powiązanych ze sobą, ale znajdujących się w innych zbiorach."
   ]
  },
  {
   "cell_type": "code",
   "execution_count": 10,
   "id": "ebc44f24",
   "metadata": {},
   "outputs": [
    {
     "name": "stderr",
     "output_type": "stream",
     "text": [
      "/Users/juliazon/opt/anaconda3/lib/python3.9/site-packages/pandas/io/sql.py:761: UserWarning: pandas only support SQLAlchemy connectable(engine/connection) ordatabase string URI or sqlite3 DBAPI2 connectionother DBAPI2 objects are not tested, please consider using SQLAlchemy\n",
      "  warnings.warn(\n"
     ]
    },
    {
     "name": "stdout",
     "output_type": "stream",
     "text": [
      "  first_name last_name        city    country\n",
      "0       Mike   Hillyer  Lethbridge     Canada\n",
      "1        Jon  Stephens   Woodridge  Australia\n"
     ]
    }
   ],
   "source": [
    "#Zapytanie o miejsce zamieszkania członków personelu\n",
    "txt =   \"\"\"\n",
    "        SELECT\n",
    "            first_name,\n",
    "            last_name,\n",
    "            ct.city,\n",
    "            cntr.country\n",
    "        FROM\n",
    "            staff s\n",
    "        INNER JOIN address a\n",
    "            ON a.address_id = s.address_id\n",
    "        INNER JOIN city ct\n",
    "            ON ct.city_id = a.city_id\n",
    "        INNER JOIN country cntr\n",
    "            ON cntr.country_id = ct.country_id\n",
    "        \"\"\"\n",
    "df7 = pd.read_sql(txt,con=connection)\n",
    "print(df7) "
   ]
  },
  {
   "cell_type": "code",
   "execution_count": 11,
   "id": "ae9906bd",
   "metadata": {},
   "outputs": [
    {
     "name": "stderr",
     "output_type": "stream",
     "text": [
      "/Users/juliazon/opt/anaconda3/lib/python3.9/site-packages/pandas/io/sql.py:761: UserWarning: pandas only support SQLAlchemy connectable(engine/connection) ordatabase string URI or sqlite3 DBAPI2 connectionother DBAPI2 objects are not tested, please consider using SQLAlchemy\n",
      "  warnings.warn(\n"
     ]
    },
    {
     "name": "stdout",
     "output_type": "stream",
     "text": [
      "   count\n",
      "0      0\n"
     ]
    }
   ],
   "source": [
    "#Zapytanie ilu pracowników mieszka w Argentynie lub Hiszpanii\n",
    "txt =   \"\"\"\n",
    "        SELECT\n",
    "            count(*)\n",
    "        FROM\n",
    "            staff s\n",
    "        INNER JOIN address a\n",
    "            ON a.address_id = s.address_id\n",
    "        INNER JOIN city ct\n",
    "            ON ct.city_id = a.city_id\n",
    "        INNER JOIN country cntr\n",
    "            ON cntr.country_id = ct.country_id\n",
    "        WHERE\n",
    "            cntr.country IN ('Argentina', 'Spain')\n",
    "        \"\"\"\n",
    "df8 = pd.read_sql(txt,con=connection)\n",
    "print(df8) "
   ]
  },
  {
   "cell_type": "markdown",
   "id": "6b525663",
   "metadata": {},
   "source": [
    "Wykorzystanie klauzuli WHERE, dzięki której można w łatwy sposób sprawdzić, czy wyszukane dane spełniają określone warunki. W tym przypadku sprawdziłam, czy kraj zamieszkania pracownika to Argentyna lub Hiszpania."
   ]
  },
  {
   "cell_type": "code",
   "execution_count": 12,
   "id": "e9d500c0",
   "metadata": {},
   "outputs": [
    {
     "name": "stderr",
     "output_type": "stream",
     "text": [
      "/Users/juliazon/opt/anaconda3/lib/python3.9/site-packages/pandas/io/sql.py:761: UserWarning: pandas only support SQLAlchemy connectable(engine/connection) ordatabase string URI or sqlite3 DBAPI2 connectionother DBAPI2 objects are not tested, please consider using SQLAlchemy\n",
      "  warnings.warn(\n"
     ]
    },
    {
     "name": "stdout",
     "output_type": "stream",
     "text": [
      "           name\n",
      "0        Sports\n",
      "1      Classics\n",
      "2           New\n",
      "3        Family\n",
      "4        Comedy\n",
      "5     Animation\n",
      "6        Travel\n",
      "7         Music\n",
      "8         Drama\n",
      "9        Horror\n",
      "10       Sci-Fi\n",
      "11        Games\n",
      "12  Documentary\n",
      "13      Foreign\n",
      "14       Action\n",
      "15     Children\n"
     ]
    }
   ],
   "source": [
    "#Zapytanie jakie kategorie zostały wypożyczone przez klientów\n",
    "txt =   \"\"\"\n",
    "        SELECT\n",
    "            DISTINCT name\n",
    "        FROM\n",
    "            category c\n",
    "        INNER JOIN film_category fc\n",
    "            ON fc.category_id = c.category_id\n",
    "        INNER JOIN inventory i\n",
    "            ON i.film_id = fc.film_id\n",
    "        INNER JOIN rental r\n",
    "            ON r.inventory_id = i.inventory_id\n",
    "        \"\"\"\n",
    "df9 = pd.read_sql(txt,con=connection)\n",
    "print(df9) "
   ]
  },
  {
   "cell_type": "code",
   "execution_count": 13,
   "id": "4be60b31",
   "metadata": {},
   "outputs": [
    {
     "name": "stderr",
     "output_type": "stream",
     "text": [
      "/Users/juliazon/opt/anaconda3/lib/python3.9/site-packages/pandas/io/sql.py:761: UserWarning: pandas only support SQLAlchemy connectable(engine/connection) ordatabase string URI or sqlite3 DBAPI2 connectionother DBAPI2 objects are not tested, please consider using SQLAlchemy\n",
      "  warnings.warn(\n"
     ]
    },
    {
     "name": "stdout",
     "output_type": "stream",
     "text": [
      "Empty DataFrame\n",
      "Columns: [name]\n",
      "Index: []\n"
     ]
    }
   ],
   "source": [
    "#Zapytanie o wszystkie kategorie filmów wypożyczonych w Ameryce\n",
    "txt =   \"\"\"\n",
    "        SELECT\n",
    "            name\n",
    "        FROM\n",
    "            category c\n",
    "        INNER JOIN film_category fc\n",
    "            ON fc.category_id = c.category_id\n",
    "        INNER JOIN inventory i\n",
    "            ON i.film_id = fc.film_id\n",
    "        INNER JOIN rental r\n",
    "            ON r.inventory_id = i.inventory_id\n",
    "        INNER JOIN payment p\n",
    "            ON p.customer_id = r.customer_id\n",
    "        INNER JOIN staff s\n",
    "            ON s.staff_id = p.staff_id\n",
    "        INNER JOIN store st\n",
    "            ON st.store_id = s.store_id\n",
    "        INNER JOIN address a\n",
    "            ON a.address_id = st.address_id\n",
    "        INNER JOIN city ct\n",
    "            ON ct.city_id = a.city_id\n",
    "        INNER JOIN country cntr\n",
    "            ON cntr.country_id = ct.country_id\n",
    "        WHERE\n",
    "            cntr.country = 'United States'\n",
    "        \"\"\"\n",
    "df10 = pd.read_sql(txt,con=connection)\n",
    "print(df10) "
   ]
  },
  {
   "cell_type": "code",
   "execution_count": 14,
   "id": "e8603f68",
   "metadata": {},
   "outputs": [
    {
     "name": "stdout",
     "output_type": "stream",
     "text": [
      "     country\n",
      "0     Canada\n",
      "1  Australia\n"
     ]
    },
    {
     "name": "stderr",
     "output_type": "stream",
     "text": [
      "/Users/juliazon/opt/anaconda3/lib/python3.9/site-packages/pandas/io/sql.py:761: UserWarning: pandas only support SQLAlchemy connectable(engine/connection) ordatabase string URI or sqlite3 DBAPI2 connectionother DBAPI2 objects are not tested, please consider using SQLAlchemy\n",
      "  warnings.warn(\n"
     ]
    }
   ],
   "source": [
    "txt =   \"\"\"\n",
    "        SELECT\n",
    "            country\n",
    "        FROM\n",
    "            store st\n",
    "        INNER JOIN address a\n",
    "            ON a.address_id = st.address_id\n",
    "        INNER JOIN city ct\n",
    "            ON ct.city_id = a.city_id\n",
    "        INNER JOIN country cntr\n",
    "            ON cntr.country_id = ct.country_id\n",
    "        \"\"\"\n",
    "df11 = pd.read_sql(txt,con=connection)\n",
    "print(df11) "
   ]
  },
  {
   "cell_type": "markdown",
   "id": "6aceb1ba",
   "metadata": {},
   "source": [
    "Brak wypożyczeń w Ameryce - sklepy znajdują się jedynie w Kanadzie i Australii."
   ]
  },
  {
   "cell_type": "code",
   "execution_count": 15,
   "id": "2fc30216",
   "metadata": {},
   "outputs": [
    {
     "name": "stderr",
     "output_type": "stream",
     "text": [
      "/Users/juliazon/opt/anaconda3/lib/python3.9/site-packages/pandas/io/sql.py:761: UserWarning: pandas only support SQLAlchemy connectable(engine/connection) ordatabase string URI or sqlite3 DBAPI2 connectionother DBAPI2 objects are not tested, please consider using SQLAlchemy\n",
      "  warnings.warn(\n"
     ]
    },
    {
     "name": "stdout",
     "output_type": "stream",
     "text": [
      "                   title\n",
      "0        Hollow Jeopardy\n",
      "1       Rider Caddyshack\n",
      "2        Idols Snatchers\n",
      "3     Magnolia Forrester\n",
      "4         Image Princess\n",
      "..                   ...\n",
      "64     Firehouse Vietnam\n",
      "65  Streetcar Intentions\n",
      "66      Effect Gladiator\n",
      "67          Outlaw Hanky\n",
      "68          Women Dorado\n",
      "\n",
      "[69 rows x 1 columns]\n"
     ]
    }
   ],
   "source": [
    "#Zapytanie o tytuły, w których grali: Olympia Pfeiffer lub Julia Zellweger lub Ellen Presley\n",
    "txt =   \"\"\"\n",
    "        SELECT\n",
    "            DISTINCT title\n",
    "        FROM\n",
    "            category c\n",
    "        INNER JOIN film_category fc\n",
    "            ON fc.category_id = c.category_id   \n",
    "        INNER JOIN film f\n",
    "            ON f.film_id = fc.film_id\n",
    "        INNER JOIN film_actor fa\n",
    "            ON fa.film_id = f.film_id\n",
    "        INNER JOIN actor a\n",
    "            ON a.actor_id = fa.actor_id\n",
    "        WHERE\n",
    "            (a.first_name = 'Ellen' AND a.last_name = 'Presley') OR\n",
    "            (a.first_name = 'Julia' AND a.last_name = 'Zellweger') OR\n",
    "            (a.first_name = 'Olympia' AND a.last_name = 'Pfeiffer')\n",
    "        \"\"\"\n",
    "df12 = pd.read_sql(txt,con=connection)\n",
    "print(df12) "
   ]
  },
  {
   "cell_type": "markdown",
   "id": "c038cf38",
   "metadata": {},
   "source": [
    "Ponowne wykorzystanie klauzuli JOIN i WHERE, które pozwala na łatwy dostęp do danych, pomimo wielu warunków."
   ]
  }
 ],
 "metadata": {
  "kernelspec": {
   "display_name": "Python 3 (ipykernel)",
   "language": "python",
   "name": "python3"
  },
  "language_info": {
   "codemirror_mode": {
    "name": "ipython",
    "version": 3
   },
   "file_extension": ".py",
   "mimetype": "text/x-python",
   "name": "python",
   "nbconvert_exporter": "python",
   "pygments_lexer": "ipython3",
   "version": "3.9.12"
  }
 },
 "nbformat": 4,
 "nbformat_minor": 5
}
